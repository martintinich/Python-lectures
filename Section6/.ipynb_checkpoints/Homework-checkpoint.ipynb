{
 "cells": [
  {
   "cell_type": "code",
   "execution_count": 9,
   "metadata": {
    "collapsed": false
   },
   "outputs": [],
   "source": [
    "board = [[' ',' ',' '],[' ',' ',' '],[' ',' ',' ']]\n",
    "game=True\n",
    "endgame=False\n",
    "\n",
    "from IPython.display import clear_output\n",
    "\n",
    "def clearbrd():\n",
    "    global board\n",
    "    board = [[' ',' ',' '],[' ',' ',' '],[' ',' ',' ']]\n",
    "\n",
    "def printboard():\n",
    "    print \"_______\\n|{a}|{b}|{c}|\".format(a=board[0][0],b=board[0][1],c=board[0][2])\n",
    "    print \"_______\\n|{d}|{e}|{f}|\".format(d=board[1][0],e=board[1][1],f=board[1][2])\n",
    "    print \"_______\\n|{g}|{h}|{i}|\".format(g=board[2][0],h=board[2][1],i=board[2][2])\n",
    "    print \"_______\"\n",
    "\n",
    "def winnercheck():\n",
    "    if board[0][0]==board[0][1]==board[0][2]!=' ' or board[1][0]==board[1][1]==board[1][2]!=' ' or board[2][0]==board[2][1]==board[2][2]!=' ':\n",
    "        return True\n",
    "    elif board[0][0]==board[1][0]==board[2][0]!=' ' or board[0][1]==board[1][1]==board[0][1]!=' ' or board[0][2]==board[1][2]==board[2][2]!=' ':\n",
    "        return True\n",
    "    elif board[0][0]==board[1][1]==board[2][2]!=' ' or board[0][2]==board[1][1]==board[2][0]!=' ':\n",
    "        return True\n",
    "    else:\n",
    "        return False\n",
    "\n",
    "def winneris():    \n",
    "    if board[0][0]==board[0][1]==board[0][2]!=' ':\n",
    "        return 'Winner is: %s' %board[0][0]\n",
    "    elif board[1][0]==board[1][1]==board[1][2]!=' ': \n",
    "        return 'Winner is: %s' %board[1][0]\n",
    "    elif board[2][0]==board[2][1]==board[2][2]!=' ':\n",
    "        return 'Winner is: %s' %board[2][0]\n",
    "    \n",
    "    elif board[0][0]==board[1][0]==board[2][0]!=' ':\n",
    "        return 'Winner is: %s' %board[0][0]\n",
    "    elif board[0][1]==board[1][1]==board[0][1]!=' ':\n",
    "        return 'Winner is: %s' %board[0][1]\n",
    "    elif board[0][2]==board[1][2]==board[2][2]!=' ':\n",
    "        return 'Winner is: %s' %board[0][2]\n",
    "    \n",
    "    elif board[0][0]==board[1][1]==board[2][2]!=' ':\n",
    "        return 'Winner is: %s' %board[0][0]\n",
    "    elif board[0][2]==board[1][1]==board[2][0]!=' ':\n",
    "        return 'Winner is: %s' %board[0][2]\n",
    "    else:\n",
    "        return 'No winner'\n",
    "    \n",
    "def ending():\n",
    "    global game\n",
    "    print winneris()\n",
    "    validanswer=False\n",
    "    while validanswer!=True:\n",
    "        newgame=raw_input(\"Do you want to play again?(Y/N)\")\n",
    "        if newgame=='Y':\n",
    "            clearbrd()\n",
    "            game= True\n",
    "            validanswer = True\n",
    "        if newgame=='N':\n",
    "            game = False\n",
    "            clear_output()\n",
    "            printboard()\n",
    "            print \"Game ended\"\n",
    "            validanswer = True\n",
    "        else:\n",
    "            pass\n",
    "        \n",
    "def playerturn():\n",
    "    done=False\n",
    "    while done!=True:\n",
    "        board_position_x = raw_input(\"Please enter X coordinate: \")\n",
    "        board_position_y = raw_input(\"Please enter Y coordinate: \") \n",
    "        board_x=-int(board_position_y)+3\n",
    "        board_y=int(board_position_x)-1\n",
    "        if board[board_x][board_y]==' ':\n",
    "            board[board_x][board_y] = raw_input(\"Please enter marker: \")\n",
    "            done=True\n",
    "        else:\n",
    "            print \"Place already taken, please choose another!\"\n",
    "            pushtocontinue = raw_input(\"Press enter to continue\")\n",
    "            clear_output()\n",
    "            printboard()\n",
    "            done=False\n",
    "        \n",
    "        "
   ]
  },
  {
   "cell_type": "code",
   "execution_count": 10,
   "metadata": {
    "collapsed": false,
    "scrolled": true
   },
   "outputs": [
    {
     "name": "stdout",
     "output_type": "stream",
     "text": [
      "_______\n",
      "| | | |\n",
      "_______\n",
      "|Y|Y|Y|\n",
      "_______\n",
      "|X| | |\n",
      "_______\n",
      "Game ended\n"
     ]
    }
   ],
   "source": [
    "while game:\n",
    "    clear_output()\n",
    "    printboard()\n",
    "    playerturn()\n",
    "    clear_output()\n",
    "    printboard()\n",
    "    endgame=winnercheck()\n",
    "    if endgame:\n",
    "        ending()"
   ]
  },
  {
   "cell_type": "code",
   "execution_count": null,
   "metadata": {
    "collapsed": true
   },
   "outputs": [],
   "source": []
  }
 ],
 "metadata": {
  "kernelspec": {
   "display_name": "Python 2",
   "language": "python",
   "name": "python2"
  },
  "language_info": {
   "codemirror_mode": {
    "name": "ipython",
    "version": 2
   },
   "file_extension": ".py",
   "mimetype": "text/x-python",
   "name": "python",
   "nbconvert_exporter": "python",
   "pygments_lexer": "ipython2",
   "version": "2.7.13"
  }
 },
 "nbformat": 4,
 "nbformat_minor": 2
}
