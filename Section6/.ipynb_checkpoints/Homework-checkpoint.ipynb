{
 "cells": [
  {
   "cell_type": "code",
   "execution_count": 1,
   "metadata": {
    "collapsed": false
   },
   "outputs": [],
   "source": [
    "board = [[' ',' ',' '],[' ',' ',' '],[' ',' ',' ']]\n",
    "game=True"
   ]
  },
  {
   "cell_type": "code",
   "execution_count": 2,
   "metadata": {
    "collapsed": true
   },
   "outputs": [],
   "source": [
    "from IPython.display import clear_output"
   ]
  },
  {
   "cell_type": "code",
   "execution_count": 3,
   "metadata": {
    "collapsed": false
   },
   "outputs": [],
   "source": [
    "def printboard():\n",
    "    print \"_______\\n|{a}|{b}|{c}|\".format(a=board[0][0],b=board[0][1],c=board[0][2])\n",
    "    print \"_______\\n|{d}|{e}|{f}|\".format(d=board[1][0],e=board[1][1],f=board[1][2])\n",
    "    print \"_______\\n|{g}|{h}|{i}|\".format(g=board[2][0],h=board[2][1],i=board[2][2])\n",
    "    print \"_______\""
   ]
  },
  {
   "cell_type": "code",
   "execution_count": 4,
   "metadata": {
    "collapsed": false
   },
   "outputs": [],
   "source": [
    "def winnercheck():\n",
    "    if board[0][0]==board[0][1]==board[0][2]!=' ' or board[1][0]==board[1][1]==board[1][2]!=' ' or board[2][0]==board[2][1]==board[2][2]!=' ':\n",
    "        return True\n",
    "    elif board[0][0]==board[1][0]==board[2][0]!=' ' or board[0][1]==board[1][1]==board[0][1]!=' ' or board[0][2]==board[1][2]==board[2][2]!=' ':\n",
    "        return True\n",
    "    elif board[0][0]==board[1][1]==board[2][2]!=' ' or board[0][2]==board[1][1]==board[2][0]!=' ':\n",
    "        return True\n",
    "    else:\n",
    "        return False"
   ]
  },
  {
   "cell_type": "code",
   "execution_count": 5,
   "metadata": {
    "collapsed": false
   },
   "outputs": [],
   "source": [
    "def winneris():    \n",
    "    if board[0][0]==board[0][1]==board[0][2]!=' ':\n",
    "        return 'Winner is: %s' %board[0][0]\n",
    "    elif board[1][0]==board[1][1]==board[1][2]!=' ': \n",
    "        return 'Winner is: %s' %board[1][0]\n",
    "    elif board[2][0]==board[2][1]==board[2][2]!=' ':\n",
    "        return 'Winner is: %s' %board[2][0]\n",
    "    \n",
    "    elif board[0][0]==board[1][0]==board[2][0]!=' ':\n",
    "        return 'Winner is: %s' %board[0][0]\n",
    "    elif board[0][1]==board[1][1]==board[0][1]!=' ':\n",
    "        return 'Winner is: %s' %board[0][1]\n",
    "    elif board[0][2]==board[1][2]==board[2][2]!=' ':\n",
    "        return 'Winner is: %s' %board[0][2]\n",
    "    \n",
    "    elif board[0][0]==board[1][1]==board[2][2]!=' ':\n",
    "        return 'Winner is: %s' %board[0][0]\n",
    "    elif board[0][2]==board[1][1]==board[2][0]!=' ':\n",
    "        return 'Winner is: %s' %board[0][2]\n",
    "    else:\n",
    "        return 'No winner'"
   ]
  },
  {
   "cell_type": "code",
   "execution_count": 6,
   "metadata": {
    "collapsed": true
   },
   "outputs": [],
   "source": [
    "def playerturn():\n",
    "    board_position_x = raw_input(\"Please enter X coordinate: \")\n",
    "    board_position_y = raw_input(\"Please enter Y coordinate: \")\n",
    "    board[int(board_position_x)][int(board_position_y)] = raw_input(\"Please enter marker: \")"
   ]
  },
  {
   "cell_type": "code",
   "execution_count": 7,
   "metadata": {
    "collapsed": false,
    "scrolled": true
   },
   "outputs": [
    {
     "name": "stdout",
     "output_type": "stream",
     "text": [
      "_______\n",
      "|X|X|O|\n",
      "_______\n",
      "|X|O| |\n",
      "_______\n",
      "|X| | |\n",
      "_______\n",
      "Winner is: X\n"
     ]
    }
   ],
   "source": [
    "while game:\n",
    "    clear_output()\n",
    "    printboard()\n",
    "    playerturn()\n",
    "    clear_output()\n",
    "    printboard()\n",
    "    if winnercheck():\n",
    "        print winneris()\n",
    "        game=False\n",
    "    "
   ]
  },
  {
   "cell_type": "code",
   "execution_count": null,
   "metadata": {
    "collapsed": true
   },
   "outputs": [],
   "source": []
  }
 ],
 "metadata": {
  "kernelspec": {
   "display_name": "Python 2",
   "language": "python",
   "name": "python2"
  },
  "language_info": {
   "codemirror_mode": {
    "name": "ipython",
    "version": 2
   },
   "file_extension": ".py",
   "mimetype": "text/x-python",
   "name": "python",
   "nbconvert_exporter": "python",
   "pygments_lexer": "ipython2",
   "version": "2.7.13"
  }
 },
 "nbformat": 4,
 "nbformat_minor": 2
}
