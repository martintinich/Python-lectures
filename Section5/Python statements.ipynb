{
 "cells": [
  {
   "cell_type": "markdown",
   "metadata": {},
   "source": [
    "Comparing python to other languages, for example: C"
   ]
  },
  {
   "cell_type": "markdown",
   "metadata": {},
   "source": [
    "in c: if(a>b){a=1;b=2;}"
   ]
  },
  {
   "cell_type": "markdown",
   "metadata": {},
   "source": [
    "instead in python: \n",
    "    if a>b:a=2\n",
    "        b=4"
   ]
  },
  {
   "cell_type": "markdown",
   "metadata": {},
   "source": [
    "No semicolons"
   ]
  },
  {
   "cell_type": "markdown",
   "metadata": {},
   "source": [
    "easier to learn"
   ]
  },
  {
   "cell_type": "code",
   "execution_count": null,
   "metadata": {
    "collapsed": true
   },
   "outputs": [],
   "source": []
  }
 ],
 "metadata": {
  "kernelspec": {
   "display_name": "Python 2",
   "language": "python",
   "name": "python2"
  },
  "language_info": {
   "codemirror_mode": {
    "name": "ipython",
    "version": 2
   },
   "file_extension": ".py",
   "mimetype": "text/x-python",
   "name": "python",
   "nbconvert_exporter": "python",
   "pygments_lexer": "ipython2",
   "version": "2.7.13"
  }
 },
 "nbformat": 4,
 "nbformat_minor": 2
}
